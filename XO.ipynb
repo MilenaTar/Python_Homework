{
 "cells": [
  {
   "cell_type": "code",
   "execution_count": 1,
   "metadata": {},
   "outputs": [
    {
     "name": "stdout",
     "output_type": "stream",
     "text": [
      "+---+---+---+\n",
      "| 1 | 2 | 3 |\n",
      "+===+===+===+\n",
      "| 4 | 5 | 6 |\n",
      "+---+---+---+\n",
      "| 7 | 8 | 9 |\n",
      "+---+---+---+\n"
     ]
    }
   ],
   "source": [
    "from texttable import Texttable\n",
    "import random\n",
    "list1 = [['1','2', '3'],[4,5, 6],[7,8, 9]]\n",
    "t = Texttable()\n",
    "t.add_rows(list1)\n",
    "print(t.draw())"
   ]
  },
  {
   "cell_type": "code",
   "execution_count": null,
   "metadata": {},
   "outputs": [],
   "source": [
    "list11 = [\"0\",'1','2','3','4','5','6','7','8']\n",
    "user = input(\"Choose X or O: \")\n",
    "if user == \"X\":\n",
    "    comp = \"O\"\n",
    "else: \n",
    "    comp = \"X\"\n",
    "print(\"user: {}\".format(user))\n",
    "print(\"comp: {}\".format(comp))\n",
    "# print(comp_position, user_position)\n",
    "c = 0\n",
    "while c<4:\n",
    "    user_position = input(\"Choose position from 0-8: \")\n",
    "    comp_position = random.randint(0,8)\n",
    "    print(comp_position)\n",
    "    c = c+1\n",
    "    while not list11[int(user_position)].isdigit():\n",
    "        user_position = input(\"Tis cell is filled, choose another position from 0-8: \")\n",
    "    list11[int(user_position)] = user\n",
    "    while not list11[comp_position].isdigit():\n",
    "        comp_position = random.randint(0,8)\n",
    "        print('new', comp_position)\n",
    "    list11[comp_position]= comp\n",
    "    for_3_list(list11)  \n"
   ]
  },
  {
   "cell_type": "code",
   "execution_count": null,
   "metadata": {},
   "outputs": [],
   "source": [
    "#sarqel funkcia u tpel amen angam\n",
    "def for_3_list(l:list)-> list:\n",
    "    l =[]\n",
    "    list3 = list11[:3]\n",
    "    list4 = list11[3:6]\n",
    "    list5 =list11 [6:]\n",
    "    tup = (list3,list4,list5)\n",
    "    for i in tup:\n",
    "        l.append(i)\n",
    "    t = Texttable()\n",
    "    t.add_rows(l)\n",
    "    print(t.draw())\n",
    "\n"
   ]
  },
  {
   "cell_type": "code",
   "execution_count": null,
   "metadata": {},
   "outputs": [],
   "source": [
    "for_3_list(list11)"
   ]
  },
  {
   "cell_type": "code",
   "execution_count": null,
   "metadata": {},
   "outputs": [],
   "source": [
    "#sarqel funkcia u tpel amen angam\n",
    "l =[]\n",
    "list3 = list11[:3]\n",
    "list4 = list11[3:6]\n",
    "list5 =list11 [6:]\n",
    "tup = (list3,list4,list5)\n",
    "for i in tup:\n",
    "    l.append(i)\n",
    "t = Texttable()\n",
    "t.add_rows(l)\n",
    "print(t.draw())\n"
   ]
  },
  {
   "cell_type": "code",
   "execution_count": null,
   "metadata": {},
   "outputs": [],
   "source": [
    "list5 = [2,3,4,5,6]\n",
    "list5[2] =\"a\"\n",
    "print(list5)\n",
    "a = \"LLL\"\n",
    "print(not a.isdigit())    "
   ]
  },
  {
   "cell_type": "code",
   "execution_count": null,
   "metadata": {},
   "outputs": [],
   "source": []
  }
 ],
 "metadata": {
  "kernelspec": {
   "display_name": "Python 3",
   "language": "python",
   "name": "python3"
  },
  "language_info": {
   "codemirror_mode": {
    "name": "ipython",
    "version": 3
   },
   "file_extension": ".py",
   "mimetype": "text/x-python",
   "name": "python",
   "nbconvert_exporter": "python",
   "pygments_lexer": "ipython3",
   "version": "3.7.4"
  }
 },
 "nbformat": 4,
 "nbformat_minor": 2
}
